{
  "nbformat": 4,
  "nbformat_minor": 0,
  "metadata": {
    "colab": {
      "provenance": []
    },
    "kernelspec": {
      "name": "python3",
      "display_name": "Python 3"
    },
    "language_info": {
      "name": "python"
    }
  },
  "cells": [
    {
      "cell_type": "code",
      "source": [
        "import zipfile\n",
        "from keras.preprocessing.image import ImageDataGenerator\n",
        "from keras.models import Sequential\n",
        "from keras.layers import Conv2D, MaxPooling2D, Flatten, Dense\n",
        "import tensorflow as tf"
      ],
      "metadata": {
        "id": "m9ZefpjDuuV8"
      },
      "execution_count": 4,
      "outputs": []
    },
    {
      "cell_type": "code",
      "source": [
        "tf.random.set_seed(42)\n",
        "\n",
        "with zipfile.ZipFile('/content/car_bike_data.zip', 'r') as zip_ref:\n",
        "    zip_ref.extractall()"
      ],
      "metadata": {
        "id": "SVHRksVKu7YC"
      },
      "execution_count": 5,
      "outputs": []
    },
    {
      "cell_type": "code",
      "source": [
        "datagen = ImageDataGenerator(rescale=1/255)"
      ],
      "metadata": {
        "id": "xbCh7y5nu_1C"
      },
      "execution_count": 6,
      "outputs": []
    },
    {
      "cell_type": "code",
      "source": [
        "train_dir = 'car_bike_data/train'\n",
        "test_dir = 'car_bike_data/test'"
      ],
      "metadata": {
        "id": "E_pcmfIOvCMh"
      },
      "execution_count": 7,
      "outputs": []
    },
    {
      "cell_type": "code",
      "source": [
        "train_generator = datagen.flow_from_directory(\n",
        "        train_dir,\n",
        "        target_size=(224, 224),\n",
        "        batch_size=4,\n",
        "        class_mode='binary')"
      ],
      "metadata": {
        "colab": {
          "base_uri": "https://localhost:8080/"
        },
        "id": "s9O7j6bzvFHV",
        "outputId": "55f1e8dc-4718-49c0-d1ab-d066354f9458"
      },
      "execution_count": 8,
      "outputs": [
        {
          "output_type": "stream",
          "name": "stdout",
          "text": [
            "Found 20 images belonging to 2 classes.\n"
          ]
        }
      ]
    },
    {
      "cell_type": "code",
      "source": [
        "test_generator = datagen.flow_from_directory(\n",
        "        test_dir,\n",
        "        target_size=(224, 224),\n",
        "        batch_size=4,\n",
        "        class_mode='binary')"
      ],
      "metadata": {
        "colab": {
          "base_uri": "https://localhost:8080/"
        },
        "id": "8K8SylIdvIDf",
        "outputId": "86a58e01-7a20-4139-b805-c76c1ec52373"
      },
      "execution_count": 9,
      "outputs": [
        {
          "output_type": "stream",
          "name": "stdout",
          "text": [
            "Found 8 images belonging to 2 classes.\n"
          ]
        }
      ]
    },
    {
      "cell_type": "code",
      "source": [
        "model = Sequential()\n",
        "model.add(Conv2D(10, kernel_size=3, activation='relu', input_shape=(224, 224, 3)))\n",
        "model.add(Conv2D(10, kernel_size=3, activation='relu'))\n",
        "model.add(MaxPooling2D(pool_size=(2, 2), padding='valid'))\n",
        "model.add(Flatten())\n",
        "model.add(Dense(1, activation='sigmoid'))"
      ],
      "metadata": {
        "id": "tXvzKp7vvL8l"
      },
      "execution_count": 10,
      "outputs": []
    },
    {
      "cell_type": "code",
      "source": [
        "model.compile(optimizer='adam', loss='binary_crossentropy', metrics=['accuracy'])\n",
        "\n",
        "model.fit(train_generator, epochs=5, validation_data=test_generator)"
      ],
      "metadata": {
        "colab": {
          "base_uri": "https://localhost:8080/"
        },
        "id": "E1Jt2TYjvTxW",
        "outputId": "2dac37ae-da86-45e4-b680-c23349d252df"
      },
      "execution_count": 11,
      "outputs": [
        {
          "output_type": "stream",
          "name": "stdout",
          "text": [
            "Epoch 1/5\n",
            "5/5 [==============================] - 2s 306ms/step - loss: 1.3240 - accuracy: 0.5000 - val_loss: 0.8183 - val_accuracy: 0.5000\n",
            "Epoch 2/5\n",
            "5/5 [==============================] - 1s 248ms/step - loss: 1.1039 - accuracy: 0.6500 - val_loss: 0.9148 - val_accuracy: 0.5000\n",
            "Epoch 3/5\n",
            "5/5 [==============================] - 1s 239ms/step - loss: 0.2802 - accuracy: 0.9000 - val_loss: 1.0480 - val_accuracy: 0.5000\n",
            "Epoch 4/5\n",
            "5/5 [==============================] - 1s 310ms/step - loss: 0.1880 - accuracy: 0.9500 - val_loss: 0.7638 - val_accuracy: 0.3750\n",
            "Epoch 5/5\n",
            "5/5 [==============================] - 1s 246ms/step - loss: 0.0661 - accuracy: 1.0000 - val_loss: 0.8401 - val_accuracy: 0.5000\n"
          ]
        },
        {
          "output_type": "execute_result",
          "data": {
            "text/plain": [
              "<keras.callbacks.History at 0x7f0df3ab54c0>"
            ]
          },
          "metadata": {},
          "execution_count": 11
        }
      ]
    },
    {
      "cell_type": "code",
      "source": [
        "test_loss, test_accuracy = model.evaluate(test_generator)\n",
        "print('Test accuracy:', test_accuracy)"
      ],
      "metadata": {
        "colab": {
          "base_uri": "https://localhost:8080/"
        },
        "id": "Nna1_7t5vXQE",
        "outputId": "695978bc-9b37-4453-e2f5-e77746bba911"
      },
      "execution_count": 12,
      "outputs": [
        {
          "output_type": "stream",
          "name": "stdout",
          "text": [
            "2/2 [==============================] - 0s 155ms/step - loss: 0.8401 - accuracy: 0.5000\n",
            "Test accuracy: 0.5\n"
          ]
        }
      ]
    }
  ]
}